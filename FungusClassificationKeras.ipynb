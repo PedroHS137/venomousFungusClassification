{
  "nbformat": 4,
  "nbformat_minor": 0,
  "metadata": {
    "colab": {
      "name": "FungusClassificationKeras.ipynb",
      "provenance": [],
      "collapsed_sections": []
    },
    "kernelspec": {
      "name": "python3",
      "display_name": "Python 3"
    }
  },
  "cells": [
    {
      "cell_type": "code",
      "metadata": {
        "id": "1E6QJbl53Wzt"
      },
      "source": [
        "import keras \n",
        "from keras.models import Sequential\n",
        "from keras.layers import Dense\n",
        "from keras.wrappers.scikit_learn import KerasClassifier\n",
        "from keras.utils import np_utils\n",
        "from sklearn.model_selection import cross_val_score\n",
        "from sklearn.model_selection import KFold\n",
        "from sklearn.preprocessing import LabelEncoder\n",
        "from sklearn.pipeline import Pipeline\n",
        "import pandas as pd\n",
        "import numpy as np\n",
        "from sklearn.model_selection import train_test_split"
      ],
      "execution_count": 20,
      "outputs": []
    },
    {
      "cell_type": "code",
      "metadata": {
        "id": "uPARcOyZ4Hdw"
      },
      "source": [
        "seed = 7\n",
        "np.random.seed(seed)"
      ],
      "execution_count": 2,
      "outputs": []
    },
    {
      "cell_type": "markdown",
      "metadata": {
        "id": "Pt-_8aHa3gF0"
      },
      "source": [
        ""
      ]
    },
    {
      "cell_type": "code",
      "metadata": {
        "id": "avSU2T_Z3h-M"
      },
      "source": [
        "df = pd.read_csv('hongos.csv')\n",
        "data = df.values\n",
        "x = data[:, 0:21].astype('float')\n",
        "y = data[:, 0]"
      ],
      "execution_count": 21,
      "outputs": []
    },
    {
      "cell_type": "code",
      "metadata": {
        "colab": {
          "base_uri": "https://localhost:8080/"
        },
        "id": "lRUdf2vCYiXx",
        "outputId": "47265f89-1c36-4b40-ff05-085c84da41ff"
      },
      "source": [
        "from google.colab import drive\n",
        "drive.mount('/content/drive')"
      ],
      "execution_count": 22,
      "outputs": [
        {
          "output_type": "stream",
          "text": [
            "Drive already mounted at /content/drive; to attempt to forcibly remount, call drive.mount(\"/content/drive\", force_remount=True).\n"
          ],
          "name": "stdout"
        }
      ]
    },
    {
      "cell_type": "code",
      "metadata": {
        "colab": {
          "base_uri": "https://localhost:8080/"
        },
        "id": "XjOo3Mx83iuM",
        "outputId": "90bd08c5-905d-439b-9cf4-04d29333e463"
      },
      "source": [
        "encoder = LabelEncoder()\n",
        "encoder.fit(y)\n",
        "encoded_y = encoder.transform(y)\n",
        "print(encoded_y)"
      ],
      "execution_count": 23,
      "outputs": [
        {
          "output_type": "stream",
          "text": [
            "[1 0 0 ... 0 1 0]\n"
          ],
          "name": "stdout"
        }
      ]
    },
    {
      "cell_type": "code",
      "metadata": {
        "id": "lqKdV19k3i4F"
      },
      "source": [
        "y_onehot = np_utils.to_categorical(encoded_y)"
      ],
      "execution_count": 24,
      "outputs": []
    },
    {
      "cell_type": "code",
      "metadata": {
        "id": "gh4iz_2B3i-S"
      },
      "source": [
        "#neural network model \n",
        "\n",
        "def base_model():\n",
        "    model = Sequential()\n",
        "    model.add(Dense(10, input_dim = 21, activation='relu'))\n",
        "    model.add(Dense(10, activation='relu'))\n",
        "    model.add(Dense(2, activation='softmax'))\n",
        "    #model.add(Dense(output_dim = 1, activation = 'relu'))\n",
        "    #compile model \n",
        "    model.compile(loss='categorical_crossentropy', optimizer = 'Ftrl', metrics= ['accuracy'])\n",
        "    return model"
      ],
      "execution_count": 33,
      "outputs": []
    },
    {
      "cell_type": "code",
      "metadata": {
        "id": "v2loGFPo3jD7"
      },
      "source": [
        "estimator = KerasClassifier(build_fn=base_model, epochs=50, batch_size=15, verbose=0)"
      ],
      "execution_count": 37,
      "outputs": []
    },
    {
      "cell_type": "code",
      "metadata": {
        "id": "mCChu57r3jJx"
      },
      "source": [
        "kFold = KFold(n_splits=10, shuffle=True, random_state=seed)"
      ],
      "execution_count": 38,
      "outputs": []
    },
    {
      "cell_type": "code",
      "metadata": {
        "colab": {
          "base_uri": "https://localhost:8080/"
        },
        "id": "1q512Yqm4OQi",
        "outputId": "2ddc30c7-0880-4176-8bef-b18e9ce3d51c"
      },
      "source": [
        "results = cross_val_score(estimator,x,y_onehot, cv=kFold)\n",
        "print('base model: %.2f%% (%.2f%%)' % (results.mean()*100,results.std()*100))"
      ],
      "execution_count": 39,
      "outputs": [
        {
          "output_type": "stream",
          "text": [
            "base model: 91.55% (3.43%)\n"
          ],
          "name": "stdout"
        }
      ]
    },
    {
      "cell_type": "code",
      "metadata": {
        "id": "PmVnTFkZ4OaD"
      },
      "source": [
        "import matplotlib.pyplot as plt\n",
        "from keras.layers import Dense\n",
        "import matplotlib.pyplot as plt\n",
        "import numpy"
      ],
      "execution_count": null,
      "outputs": []
    },
    {
      "cell_type": "code",
      "metadata": {
        "colab": {
          "base_uri": "https://localhost:8080/",
          "height": 282
        },
        "id": "Qd_imZtH4OiQ",
        "outputId": "4f906fc5-40e6-4b8d-a1fa-e67aa19a9c2e"
      },
      "source": [
        "import seaborn as sns\n",
        "sns.lineplot(data=results)"
      ],
      "execution_count": null,
      "outputs": [
        {
          "output_type": "execute_result",
          "data": {
            "text/plain": [
              "<matplotlib.axes._subplots.AxesSubplot at 0x7f248a44cc50>"
            ]
          },
          "metadata": {
            "tags": []
          },
          "execution_count": 20
        },
        {
          "output_type": "display_data",
          "data": {
            "image/png": "[encoded data removed]",
            "text/plain": [
              "<Figure size 432x288 with 1 Axes>"
            ]
          },
          "metadata": {
            "tags": [],
            "needs_background": "light"
          }
        }
      ]
    },
    {
      "cell_type": "code",
      "metadata": {
        "id": "y64fL8Hp8nL_"
      },
      "source": [
        "history = model.fit(x_train, \n",
        "                    y_train,\n",
        "                    epochs = 200,\n",
        "                    batch_size = 16,\n",
        "                    verbose=0,\n",
        "                    validation_data=(x_val,y_val))"
      ],
      "execution_count": null,
      "outputs": []
    }
  ]
}
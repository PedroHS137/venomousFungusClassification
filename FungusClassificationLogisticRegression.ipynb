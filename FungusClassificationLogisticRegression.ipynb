{
  "nbformat": 4,
  "nbformat_minor": 0,
  "metadata": {
    "kernelspec": {
      "display_name": "Python 3",
      "language": "python",
      "name": "python3"
    },
    "language_info": {
      "codemirror_mode": {
        "name": "ipython",
        "version": 3
      },
      "file_extension": ".py",
      "mimetype": "text/x-python",
      "name": "python",
      "nbconvert_exporter": "python",
      "pygments_lexer": "ipython3",
      "version": "3.7.1"
    },
    "colab": {
      "name": "FungusClassificationLogisticRegression.ipynb",
      "provenance": []
    }
  },
  "cells": [
    {
      "cell_type": "markdown",
      "metadata": {
        "id": "mROih1NB0OW_"
      },
      "source": [
        "# Logistic Regresion Model for venomous fungus classification"
      ]
    },
    {
      "cell_type": "markdown",
      "metadata": {
        "id": "yVrJoBRy0OXH"
      },
      "source": [
        "Logistic Regression (LoR) belongs to the Supervised Learning classification. Then, the learning algorithm is the same as Linear Regression. There are three things that are different: \n",
        "\n",
        "    - Cost function\n",
        "    - Prediction function\n",
        "    - Performance measurement.\n",
        "\n",
        "The LoR algorithm is as follows:\n",
        "\n",
        "1. Load the dataset\n",
        "2. Prepare data: add Bias or Ones' column and split dataset\n",
        "3. Gradient Descent algorthim\n",
        "4. Performance Measurement"
      ]
    },
    {
      "cell_type": "markdown",
      "metadata": {
        "id": "ukaCVCmN0OXJ"
      },
      "source": [
        "## 1. Load Dataset"
      ]
    },
    {
      "cell_type": "code",
      "metadata": {
        "id": "st0v0oc60OXM"
      },
      "source": [
        "#Import libraries\n",
        "import numpy as np\n",
        "import pandas as pd\n",
        "from sklearn.model_selection import train_test_split\n",
        "import matplotlib.pyplot as plt\n"
      ],
      "execution_count": null,
      "outputs": []
    },
    {
      "cell_type": "code",
      "metadata": {
        "id": "GZVTCBA80OXR",
        "outputId": "1ad19b2b-93db-450e-a5f6-7fb27530486a"
      },
      "source": [
        "#1. Load dataset\n",
        "\n",
        "data = pd.read_csv('hongos.csv', header = None)\n",
        "data.head()\n",
        "\n"
      ],
      "execution_count": null,
      "outputs": [
        {
          "output_type": "execute_result",
          "data": {
            "text/html": [
              "<div>\n",
              "<style scoped>\n",
              "    .dataframe tbody tr th:only-of-type {\n",
              "        vertical-align: middle;\n",
              "    }\n",
              "\n",
              "    .dataframe tbody tr th {\n",
              "        vertical-align: top;\n",
              "    }\n",
              "\n",
              "    .dataframe thead th {\n",
              "        text-align: right;\n",
              "    }\n",
              "</style>\n",
              "<table border=\"1\" class=\"dataframe\">\n",
              "  <thead>\n",
              "    <tr style=\"text-align: right;\">\n",
              "      <th></th>\n",
              "      <th>0</th>\n",
              "      <th>1</th>\n",
              "      <th>2</th>\n",
              "      <th>3</th>\n",
              "      <th>4</th>\n",
              "      <th>5</th>\n",
              "      <th>6</th>\n",
              "      <th>7</th>\n",
              "      <th>8</th>\n",
              "      <th>9</th>\n",
              "      <th>...</th>\n",
              "      <th>13</th>\n",
              "      <th>14</th>\n",
              "      <th>15</th>\n",
              "      <th>16</th>\n",
              "      <th>17</th>\n",
              "      <th>18</th>\n",
              "      <th>19</th>\n",
              "      <th>20</th>\n",
              "      <th>21</th>\n",
              "      <th>22</th>\n",
              "    </tr>\n",
              "  </thead>\n",
              "  <tbody>\n",
              "    <tr>\n",
              "      <th>0</th>\n",
              "      <td>0</td>\n",
              "      <td>0</td>\n",
              "      <td>3</td>\n",
              "      <td>8</td>\n",
              "      <td>0</td>\n",
              "      <td>1</td>\n",
              "      <td>2</td>\n",
              "      <td>0</td>\n",
              "      <td>0</td>\n",
              "      <td>1</td>\n",
              "      <td>...</td>\n",
              "      <td>3</td>\n",
              "      <td>7</td>\n",
              "      <td>7</td>\n",
              "      <td>0</td>\n",
              "      <td>2</td>\n",
              "      <td>1</td>\n",
              "      <td>5</td>\n",
              "      <td>1</td>\n",
              "      <td>2</td>\n",
              "      <td>2</td>\n",
              "    </tr>\n",
              "    <tr>\n",
              "      <th>1</th>\n",
              "      <td>1</td>\n",
              "      <td>2</td>\n",
              "      <td>2</td>\n",
              "      <td>8</td>\n",
              "      <td>0</td>\n",
              "      <td>7</td>\n",
              "      <td>2</td>\n",
              "      <td>0</td>\n",
              "      <td>1</td>\n",
              "      <td>1</td>\n",
              "      <td>...</td>\n",
              "      <td>3</td>\n",
              "      <td>7</td>\n",
              "      <td>7</td>\n",
              "      <td>0</td>\n",
              "      <td>2</td>\n",
              "      <td>1</td>\n",
              "      <td>5</td>\n",
              "      <td>0</td>\n",
              "      <td>3</td>\n",
              "      <td>4</td>\n",
              "    </tr>\n",
              "    <tr>\n",
              "      <th>2</th>\n",
              "      <td>0</td>\n",
              "      <td>2</td>\n",
              "      <td>3</td>\n",
              "      <td>3</td>\n",
              "      <td>1</td>\n",
              "      <td>6</td>\n",
              "      <td>2</td>\n",
              "      <td>1</td>\n",
              "      <td>0</td>\n",
              "      <td>0</td>\n",
              "      <td>...</td>\n",
              "      <td>3</td>\n",
              "      <td>7</td>\n",
              "      <td>7</td>\n",
              "      <td>0</td>\n",
              "      <td>2</td>\n",
              "      <td>1</td>\n",
              "      <td>1</td>\n",
              "      <td>1</td>\n",
              "      <td>0</td>\n",
              "      <td>0</td>\n",
              "    </tr>\n",
              "    <tr>\n",
              "      <th>3</th>\n",
              "      <td>0</td>\n",
              "      <td>2</td>\n",
              "      <td>2</td>\n",
              "      <td>9</td>\n",
              "      <td>0</td>\n",
              "      <td>0</td>\n",
              "      <td>2</td>\n",
              "      <td>0</td>\n",
              "      <td>0</td>\n",
              "      <td>1</td>\n",
              "      <td>...</td>\n",
              "      <td>3</td>\n",
              "      <td>7</td>\n",
              "      <td>7</td>\n",
              "      <td>0</td>\n",
              "      <td>2</td>\n",
              "      <td>1</td>\n",
              "      <td>5</td>\n",
              "      <td>0</td>\n",
              "      <td>2</td>\n",
              "      <td>0</td>\n",
              "    </tr>\n",
              "    <tr>\n",
              "      <th>4</th>\n",
              "      <td>0</td>\n",
              "      <td>0</td>\n",
              "      <td>3</td>\n",
              "      <td>8</td>\n",
              "      <td>0</td>\n",
              "      <td>0</td>\n",
              "      <td>2</td>\n",
              "      <td>0</td>\n",
              "      <td>0</td>\n",
              "      <td>4</td>\n",
              "      <td>...</td>\n",
              "      <td>3</td>\n",
              "      <td>7</td>\n",
              "      <td>7</td>\n",
              "      <td>0</td>\n",
              "      <td>2</td>\n",
              "      <td>1</td>\n",
              "      <td>5</td>\n",
              "      <td>0</td>\n",
              "      <td>2</td>\n",
              "      <td>2</td>\n",
              "    </tr>\n",
              "  </tbody>\n",
              "</table>\n",
              "<p>5 rows × 23 columns</p>\n",
              "</div>"
            ],
            "text/plain": [
              "   0   1   2   3   4   5   6   7   8   9  ...  13  14  15  16  17  18  19  20  \\\n",
              "0   0   0   3   8   0   1   2   0   0   1 ...   3   7   7   0   2   1   5   1   \n",
              "1   1   2   2   8   0   7   2   0   1   1 ...   3   7   7   0   2   1   5   0   \n",
              "2   0   2   3   3   1   6   2   1   0   0 ...   3   7   7   0   2   1   1   1   \n",
              "3   0   2   2   9   0   0   2   0   0   1 ...   3   7   7   0   2   1   5   0   \n",
              "4   0   0   3   8   0   0   2   0   0   4 ...   3   7   7   0   2   1   5   0   \n",
              "\n",
              "   21  22  \n",
              "0   2   2  \n",
              "1   3   4  \n",
              "2   0   0  \n",
              "3   2   0  \n",
              "4   2   2  \n",
              "\n",
              "[5 rows x 23 columns]"
            ]
          },
          "metadata": {
            "tags": []
          },
          "execution_count": 40
        }
      ]
    },
    {
      "cell_type": "code",
      "metadata": {
        "id": "Xs1FMHZF0OXX",
        "outputId": "e4174539-94b1-44c5-d313-1e66c103b168"
      },
      "source": [
        "dataset = np.array(data)\n",
        "m,n = np.shape(dataset)\n",
        "\n",
        "x = dataset[:, 1:21]\n",
        "y = dataset[:, 0]\n",
        "print(x)\n",
        "print(y)\n",
        "print('x:', np.shape(x))\n",
        "print('y:', np.shape(y))"
      ],
      "execution_count": null,
      "outputs": [
        {
          "output_type": "stream",
          "text": [
            "[[0 3 8 ... 1 5 1]\n",
            " [2 2 8 ... 1 5 0]\n",
            " [2 3 3 ... 1 1 1]\n",
            " ...\n",
            " [3 3 0 ... 1 5 2]\n",
            " [4 2 0 ... 1 1 7]\n",
            " [2 3 0 ... 1 5 5]]\n",
            "[0 1 0 ... 0 1 0]\n",
            "x: (8122, 20)\n",
            "y: (8122,)\n"
          ],
          "name": "stdout"
        }
      ]
    },
    {
      "cell_type": "markdown",
      "metadata": {
        "id": "wHVXNcKN0OXb"
      },
      "source": [
        "## 2. Prepare data\n",
        "\n",
        "This step requires to add Bias, and then split dataset. We will define the Bias function to add the intercept column to the features matrix (input).\n",
        "\n",
        "For spliting dataset we will use the train_test_split() function. Be sure to import the function before use it."
      ]
    },
    {
      "cell_type": "code",
      "metadata": {
        "id": "nP-8WxEM0OXc",
        "outputId": "7a36b002-50e9-4f15-be4e-bdf175e00424"
      },
      "source": [
        "#2. Prepare data: add Bias and split dataset\n",
        "def Bias(X):\n",
        "    ones = np.ones((len(X), 1))\n",
        "    X1 = np.concatenate((ones, X), axis = 1)\n",
        "    return X1\n",
        "\n",
        "x = Bias(x)\n",
        "\n",
        "print('x shape: ', np.shape(x))\n",
        "\n",
        "#SPLIT DATASET\n",
        "test_size = 0.2\n",
        "xTrain, xTest, yTrain, yTest = train_test_split(x, y,test_size = test_size)\n",
        "print('Split X', len(x), 'rows into train with', len(xTrain), 'and test with', len(xTest))\n",
        "print('Split Y', len(y), 'rows into train with', len(yTrain), 'and test with', len(yTest))\n",
        "\n",
        "yTrain = yTrain.reshape(-1,1)\n",
        "yTest = yTest.reshape(-1,1)\n",
        "\n",
        "print('xTrain shape:',np.shape(xTrain), 'yTrain shape:', np.shape(yTrain))\n",
        "print('xTest shape:', np.shape(xTest), 'yTest shape:', np.shape(yTest))"
      ],
      "execution_count": null,
      "outputs": [
        {
          "output_type": "stream",
          "text": [
            "x shape:  (8122, 26)\n",
            "Split X 8122 rows into train with 6497 and test with 1625\n",
            "Split Y 8122 rows into train with 6497 and test with 1625\n",
            "xTrain shape: (6497, 26) yTrain shape: (6497, 1)\n",
            "xTest shape: (1625, 26) yTest shape: (1625, 1)\n"
          ],
          "name": "stdout"
        }
      ]
    },
    {
      "cell_type": "markdown",
      "metadata": {
        "id": "NU5CzM_70OXe"
      },
      "source": [
        "## 3. Gradient Descent algorithm\n",
        "\n",
        "As we learnt from previous lesson, the Gradient Descent (GD) consists in two main steps:\n",
        "\n",
        "1. Calculate the gradient\n",
        "2. Update the W values\n",
        "\n",
        "We will add the cost calculation to evaluate the algorithm performance and W convergence.\n",
        "\n",
        "The LoR algorithm will be implemented using the number of iterarions as the while condition ends.\n",
        "\n",
        "We will define four functios to implement the GD algorithm:\n",
        "\n",
        "1. Logistic: h(  )\n",
        "2. Cost: cost(  )\n",
        "3. Gradient: grad(  ) \n",
        "4. Gradient Descent: GD(  )"
      ]
    },
    {
      "cell_type": "markdown",
      "metadata": {
        "id": "TmsSYG0P0OXf"
      },
      "source": [
        "### 3.1 Logistic function \n",
        "\n",
        "The logistic function is implemented using the formula:\n",
        "$$h(w, x) = \\frac{1}{1+e^{-w^Tx}}$$\n"
      ]
    },
    {
      "cell_type": "code",
      "metadata": {
        "id": "8ZR3lLMn0OXf"
      },
      "source": [
        "#3.1 Logistic function\n",
        "\n",
        "def h(X, W):\n",
        "    WX = np.dot(X, W.T)\n",
        "    hx = 1 / (1 + np.exp(-WX))\n",
        "    #print('hx: ',hx)\n",
        "    return hx"
      ],
      "execution_count": null,
      "outputs": []
    },
    {
      "cell_type": "markdown",
      "metadata": {
        "id": "7zkb1dUe0OXg"
      },
      "source": [
        "### 3.2 Cost function\n",
        "\n",
        "The cost function is defined by: \n",
        "\n",
        "$$\n",
        "J(w) = -\\frac{1}{m}\\left(\\sum_{i=1}^{m}y_i\\ log[h(x_i, w)] + (1 - y_i)\\ log[1 - h(x_i, w)] \\right)\n",
        "$$"
      ]
    },
    {
      "cell_type": "code",
      "metadata": {
        "id": "ejF4t-uA0OXg"
      },
      "source": [
        "#3.2 Cost function\n",
        "\n",
        "def cost(X, Y, W):\n",
        "    m = len(X)\n",
        "    #print(m)\n",
        "    c = -(1/m) * np.sum(Y * np.log(h(X, W)) + (1 - Y) * np.log(1-h(X, W))) \n",
        "    #print(c)\n",
        "    return c\n"
      ],
      "execution_count": null,
      "outputs": []
    },
    {
      "cell_type": "markdown",
      "metadata": {
        "id": "zFkgeOkW0OXh"
      },
      "source": [
        "### 3.3 Gradient function\n",
        "\n",
        "The gradient function is defined by:\n",
        "\n",
        "$$\n",
        "\\frac{\\partial J(w)}{\\partial w_j} = \\frac{1}{m} \\sum_{i=1}^{m} (h(x_i, w) - y_i) x_i[j] \n",
        "$$\n",
        "\n",
        "The gradient for the vector form is: \n",
        "\n",
        "\n",
        "$$\n",
        "\\frac{\\partial J(\\mathbf{w})}{\\partial \\mathbf{w}} = \\frac{1}{m} X^T(h(X, w) - y) \n",
        "$$\n"
      ]
    },
    {
      "cell_type": "code",
      "metadata": {
        "id": "cToh-wHp0OXh"
      },
      "source": [
        "#3.3 Gradient function\n",
        "\n",
        "def grad(X, Y, W):\n",
        "    m = len(X)\n",
        "    #print(m)\n",
        "    g = (1/m) * np.dot(X.T, (h(X,W) - Y))        \n",
        "    return g\n"
      ],
      "execution_count": null,
      "outputs": []
    },
    {
      "cell_type": "markdown",
      "metadata": {
        "id": "DCN2MsFL0OXi"
      },
      "source": [
        "### 3.4 Gradient Descent function\n",
        "\n",
        "The GD function will be define with the next steps.\n",
        "\n",
        "1. Initialize variables: it, costo, and J\n",
        "2. While the actual iteration (it) is less than iterations:\n",
        "    - Calculate the gradient\n",
        "    - Calculate the cost\n",
        "    - Update W\n",
        "    - Store the cost in J\n",
        "3. The GD function will return the W vector and J"
      ]
    },
    {
      "cell_type": "code",
      "metadata": {
        "id": "vIF3P0Eg0OXi"
      },
      "source": [
        "# 3.4 Gradient Descent function\n",
        "\n",
        "def gd(X, Y, W, alpha = 0.001, its = 1000):\n",
        "    m = len(X)\n",
        "    #print('M: ',m)\n",
        "    it = 0\n",
        "    costo = 0\n",
        "    J = []\n",
        "    while it < its:\n",
        "        # Gradient\n",
        "        gradiente = grad(X, Y, W)\n",
        "            \n",
        "        #Cost function\n",
        "        costo = cost(X, Y, W)\n",
        "            \n",
        "        #Updating w\n",
        "        W = W - alpha * gradiente.T\n",
        "                \n",
        "        #Storing cost\n",
        "        J.append(costo)\n",
        "   \n",
        "        it += 1\n",
        "              \n",
        "    return W, J"
      ],
      "execution_count": null,
      "outputs": []
    },
    {
      "cell_type": "markdown",
      "metadata": {
        "id": "lxidElxq0OXi"
      },
      "source": [
        "## Testing the Gradient Descent "
      ]
    },
    {
      "cell_type": "code",
      "metadata": {
        "id": "izlKAHB40OXj",
        "outputId": "02bfc869-6703-4f8c-b8b8-301dfef4e8b2"
      },
      "source": [
        "alpha = 0.006\n",
        "its = 85000\n",
        "\n",
        "m, n = np.shape(x)\n",
        "\n",
        "w = np.zeros((1, n))\n",
        "#print(w)\n",
        "\n",
        "print('Initial Cost (training data):', cost(xTrain, yTrain, w))\n",
        "\n",
        "#Gradient\n",
        "w, J = gd(xTrain, yTrain, w, alpha, its)\n",
        "\n",
        "print('Cost after training (training data):', cost(xTrain, yTrain, w))\n",
        "print('Cost after training (testing data):', cost(xTest, yTest, w))\n",
        "\n",
        "print('W:',w)\n",
        "\n",
        "#Plot the cost over the iterations\n",
        "plt.plot(J)\n",
        "plt.xlabel('Iterations')\n",
        "plt.ylabel('Cost');"
      ],
      "execution_count": null,
      "outputs": [
        {
          "output_type": "stream",
          "text": [
            "Initial Cost (training data): 0.6931471805599453\n",
            "Cost after training (training data): 0.1560386644739292\n",
            "Cost after training (testing data): 0.16356444600329487\n",
            "W: [[-0.10962766 -0.10962766 -0.10962766 -0.10962766 -0.10962766 -0.10962766\n",
            "   0.04128958  0.98647158  0.05045968  2.0493764   0.14949685  1.0456844\n",
            "  -4.77452529  4.43242081 -0.11749417 -1.47494171 -1.1827469  -0.90814123\n",
            "  -0.05501683 -0.24420966  0.26240966  0.          0.70300131 -1.96918905\n",
            "  -0.364345    0.650387  ]]\n"
          ],
          "name": "stdout"
        },
        {
          "output_type": "display_data",
          "data": {
            "image/png": "[encoded data removed]",
            "text/plain": [
              "<Figure size 432x288 with 1 Axes>"
            ]
          },
          "metadata": {
            "tags": [],
            "needs_background": "light"
          }
        }
      ]
    },
    {
      "cell_type": "markdown",
      "metadata": {
        "id": "RtqxQtv_0OXk"
      },
      "source": [
        "## 4. Performance Measurement\n",
        "\n",
        "The accuracy for LoR is defined by:\n",
        "\n",
        "$$ Acc = \\frac{TP + TN}{m} $$\n"
      ]
    },
    {
      "cell_type": "code",
      "metadata": {
        "id": "AD_muwZj0OXo",
        "outputId": "47d7d75e-4d0f-452e-a6c7-fe60fecd97f8"
      },
      "source": [
        "#4. Accuracy\n",
        "\n",
        "def accuracy(X, Y, W):\n",
        "    \n",
        "    #Tradicional\n",
        "    #h1 = h(X, W) #Funcion sigmoidal\n",
        "    #Ynew = []\n",
        "    #for i in range(len(h1)):\n",
        "    #    if h1[i] >= 0.5:\n",
        "    #       Ynew.append(1)\n",
        "    #    else:\n",
        "    #        Ynew.append(0)\n",
        "    \n",
        "    #Lambda\n",
        "    Ynew = list(map(lambda x: 1 if x >= 0.5 else 0, h(X, W)))\n",
        "    \n",
        "    Ynew = np.array(Ynew)\n",
        "    Ynew = Ynew.reshape(-1, 1)\n",
        "    suma = (Y == Ynew).sum()\n",
        "    \n",
        "    a = suma / len(Ynew)\n",
        "    \n",
        "    return a, suma\n",
        "\n",
        "accTrain, tptnTrain = accuracy(xTrain, yTrain, w)\n",
        "accTest, tptnTest = accuracy(xTest, yTest, w)\n",
        "print('Training accuracy:', accTrain, tptnTrain, 'out of', len(yTrain))\n",
        "print('Testing accuracy:', accTest, tptnTest, 'out of', len(yTest))"
      ],
      "execution_count": null,
      "outputs": [
        {
          "output_type": "stream",
          "text": [
            "Training accuracy: 0.9428967215637987 6126 out of 6497\n",
            "Testing accuracy: 0.9464615384615385 1538 out of 1625\n"
          ],
          "name": "stdout"
        }
      ]
    },
    {
      "cell_type": "code",
      "metadata": {
        "id": "yq2lIPw50OXp"
      },
      "source": [
        "#data.info\n"
      ],
      "execution_count": null,
      "outputs": []
    },
    {
      "cell_type": "code",
      "metadata": {
        "id": "FBgGtWKG0OXq"
      },
      "source": [
        ""
      ],
      "execution_count": null,
      "outputs": []
    }
  ]
}